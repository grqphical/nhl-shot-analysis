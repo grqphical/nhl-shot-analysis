{
 "cells": [
  {
   "cell_type": "code",
   "execution_count": null,
   "metadata": {},
   "outputs": [
    {
     "name": "stdout",
     "output_type": "stream",
     "text": [
      "    playerId  season              name team position situation  games_played  \\\n",
      "1    8478048    2023   Igor Shesterkin  NYR        G       all            55   \n",
      "6    8479979    2023    Jake Oettinger  DAL        G       all            54   \n",
      "11   8477968    2023  Alex Nedeljkovic  PIT        G       all            38   \n",
      "16   8477967    2023    Thatcher Demko  VAN        G       all            51   \n",
      "21   8476999    2023     Linus Ullmark  BOS        G       all            40   \n",
      "\n",
      "     icetime  xGoals  goals  ...  lowDangerxGoals  mediumDangerxGoals  \\\n",
      "1   196626.0  153.08  141.0  ...            48.54               49.42   \n",
      "6   185075.0  141.95  140.0  ...            43.63               51.22   \n",
      "11  123628.0   98.70  102.0  ...            34.05               35.64   \n",
      "16  180953.0  144.99  123.0  ...            42.43               43.86   \n",
      "21  144008.0  117.75  103.0  ...            38.94               35.70   \n",
      "\n",
      "    highDangerxGoals  lowDangerGoals  mediumDangerGoals  highDangerGoals  \\\n",
      "1              55.12            52.0               52.0             37.0   \n",
      "6              47.11            45.0               61.0             34.0   \n",
      "11             29.02            33.0               41.0             28.0   \n",
      "16             58.70            49.0               35.0             39.0   \n",
      "21             43.11            34.0               28.0             41.0   \n",
      "\n",
      "    blocked_shot_attempts  penalityMinutes  penalties  save_percentage  \n",
      "1                   921.0              6.0        3.0         0.912259  \n",
      "6                   839.0              2.0        1.0         0.905149  \n",
      "11                  600.0              0.0        0.0         0.901829  \n",
      "16                  733.0              0.0        0.0         0.917560  \n",
      "21                  662.0              2.0        1.0         0.914735  \n",
      "\n",
      "[5 rows x 37 columns]\n"
     ]
    }
   ],
   "source": [
    "import pandas as pd\n",
    "\n",
    "goalies_df = pd.read_csv(\"data/goalies_2023.csv\")\n",
    "goalies_df = goalies_df[goalies_df[\"situation\"] == \"all\"]\n",
    "\n",
    "goalies_df[\"save_percentage\"] = (goalies_df[\"ongoal\"] - goalies_df[\"goals\"]) / goalies_df[\"ongoal\"]\n",
    "\n",
    "shots_df = pd.read_csv(\"data/shots_2023.csv\")\n",
    "shots_df = shots_df[shots_df[\"shotOnEmptyNet\"] == 0]"
   ]
  }
 ],
 "metadata": {
  "kernelspec": {
   "display_name": "venv",
   "language": "python",
   "name": "python3"
  },
  "language_info": {
   "codemirror_mode": {
    "name": "ipython",
    "version": 3
   },
   "file_extension": ".py",
   "mimetype": "text/x-python",
   "name": "python",
   "nbconvert_exporter": "python",
   "pygments_lexer": "ipython3",
   "version": "3.12.1"
  }
 },
 "nbformat": 4,
 "nbformat_minor": 2
}
